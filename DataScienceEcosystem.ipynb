{
 "cells": [
  {
   "cell_type": "markdown",
   "id": "0ea02635-f6f0-42b3-9a66-4a74454d1c10",
   "metadata": {},
   "source": [
    "# Data Science Tools and Ecosystem"
   ]
  },
  {
   "cell_type": "markdown",
   "id": "abdee6c9-bfb1-4b19-9b34-ff8d95a904ea",
   "metadata": {},
   "source": [
    "In this notebook, Data Science Tools and Ecosystem are summarized."
   ]
  },
  {
   "cell_type": "markdown",
   "id": "e4767659-c403-4c40-a1b6-9fe85ecf2beb",
   "metadata": {},
   "source": [
    "**Objectives:**\n",
    "- Know the tasks that Data Scientists need to perform to build a model\n",
    "- Be familiar with data science tools which includes Libraries and Packages, Datasets, and Models\n",
    "- Be knowledgeable of tools such as Jupyter Notebooks and RStudio and utilize their features\n",
    "- To identify the tools in Anaconda Jupyter environments\n",
    "- Learn to create and manage source code using Git repositories and GitHub"
   ]
  },
  {
   "cell_type": "markdown",
   "id": "bb1c0831-2969-4152-9370-e8d61eb31165",
   "metadata": {},
   "source": [
    "Some of the popular languages that Data Scientists use are:\n",
    "1. Python\n",
    "2. R\n",
    "3. SQL\n",
    "4. Scala\n",
    "5. Java\n",
    "6. C++\n",
    "7. Julia"
   ]
  },
  {
   "cell_type": "markdown",
   "id": "7b8ed082-8787-407e-b389-547d6d58890e",
   "metadata": {},
   "source": [
    "Some of the commonly used libraries used by Data Scientists include:\n",
    "1. Scientific Computing Libraries such as Pandas and Numpy\n",
    "2. Visualization Libraries such as Matplotlib and Seaborn\n",
    "3. High-level Machine Learning and Deep Learning such as Scikit-learn and Keras\n",
    "4. Deep Learning in Python such as TensorFlow and Pytorch"
   ]
  },
  {
   "cell_type": "markdown",
   "id": "d266c566-7fd7-46f1-b3c7-3402eadc3c13",
   "metadata": {},
   "source": [
    "| Data Science Tools |\n",
    "| ------------------ |\n",
    "| Jupyter |\n",
    "| Apache Zeppelin |\n",
    "| RStudio |"
   ]
  },
  {
   "cell_type": "markdown",
   "id": "a56e8a8d-b93d-404c-a456-45c3b7af907a",
   "metadata": {},
   "source": [
    "### Below are a few examples of evaluating arithmetic expressions in Python"
   ]
  },
  {
   "cell_type": "code",
   "execution_count": 2,
   "id": "fb925230-f02b-4e6e-a683-a55718eea535",
   "metadata": {},
   "outputs": [
    {
     "data": {
      "text/plain": [
       "17"
      ]
     },
     "execution_count": 2,
     "metadata": {},
     "output_type": "execute_result"
    }
   ],
   "source": [
    "# This a simple arithmetic expression to multiply then add integers\n",
    "(3*4)+5"
   ]
  },
  {
   "cell_type": "code",
   "execution_count": 4,
   "id": "deedc98b-0c1c-4491-8955-7120e82a489c",
   "metadata": {},
   "outputs": [
    {
     "data": {
      "text/plain": [
       "3.3333333333333335"
      ]
     },
     "execution_count": 4,
     "metadata": {},
     "output_type": "execute_result"
    }
   ],
   "source": [
    "# This will convert 200 minutes to hours by diving by 60\n",
    "200/60"
   ]
  },
  {
   "cell_type": "markdown",
   "id": "9dff71f2-cc08-4f9a-8a5a-78f97297e343",
   "metadata": {},
   "source": [
    "## Author\n",
    "Ailleen A. Gonzales"
   ]
  }
 ],
 "metadata": {
  "kernelspec": {
   "display_name": "Python",
   "language": "python",
   "name": "conda-env-python-py"
  },
  "language_info": {
   "codemirror_mode": {
    "name": "ipython",
    "version": 3
   },
   "file_extension": ".py",
   "mimetype": "text/x-python",
   "name": "python",
   "nbconvert_exporter": "python",
   "pygments_lexer": "ipython3",
   "version": "3.7.12"
  }
 },
 "nbformat": 4,
 "nbformat_minor": 5
}
